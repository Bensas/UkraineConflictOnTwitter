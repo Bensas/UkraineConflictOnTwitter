{
 "cells": [
  {
   "cell_type": "code",
   "execution_count": 1,
   "metadata": {},
   "outputs": [
    {
     "name": "stdout",
     "output_type": "stream",
     "text": [
      "Requirement already satisfied: snscrape in /Users/sheikh/miniforge3/envs/mlp/lib/python3.8/site-packages (0.4.3.20220106)\n",
      "Requirement already satisfied: requests[socks] in /Users/sheikh/miniforge3/envs/mlp/lib/python3.8/site-packages (from snscrape) (2.27.1)\n",
      "Requirement already satisfied: pytz in /Users/sheikh/miniforge3/envs/mlp/lib/python3.8/site-packages (from snscrape) (2022.1)\n",
      "Requirement already satisfied: filelock in /Users/sheikh/miniforge3/envs/mlp/lib/python3.8/site-packages (from snscrape) (3.7.0)\n",
      "Requirement already satisfied: lxml in /Users/sheikh/miniforge3/envs/mlp/lib/python3.8/site-packages (from snscrape) (4.8.0)\n",
      "Requirement already satisfied: beautifulsoup4 in /Users/sheikh/miniforge3/envs/mlp/lib/python3.8/site-packages (from snscrape) (4.11.1)\n",
      "Requirement already satisfied: soupsieve>1.2 in /Users/sheikh/miniforge3/envs/mlp/lib/python3.8/site-packages (from beautifulsoup4->snscrape) (2.3.1)\n",
      "Requirement already satisfied: urllib3<1.27,>=1.21.1 in /Users/sheikh/miniforge3/envs/mlp/lib/python3.8/site-packages (from requests[socks]->snscrape) (1.26.9)\n",
      "Requirement already satisfied: idna<4,>=2.5 in /Users/sheikh/miniforge3/envs/mlp/lib/python3.8/site-packages (from requests[socks]->snscrape) (3.3)\n",
      "Requirement already satisfied: certifi>=2017.4.17 in /Users/sheikh/miniforge3/envs/mlp/lib/python3.8/site-packages (from requests[socks]->snscrape) (2021.10.8)\n",
      "Requirement already satisfied: charset-normalizer~=2.0.0 in /Users/sheikh/miniforge3/envs/mlp/lib/python3.8/site-packages (from requests[socks]->snscrape) (2.0.12)\n",
      "Requirement already satisfied: PySocks!=1.5.7,>=1.5.6 in /Users/sheikh/miniforge3/envs/mlp/lib/python3.8/site-packages (from requests[socks]->snscrape) (1.7.1)\n"
     ]
    }
   ],
   "source": [
    "!pip3 install snscrape"
   ]
  },
  {
   "cell_type": "code",
   "execution_count": 2,
   "metadata": {},
   "outputs": [],
   "source": [
    "import snscrape.modules.twitter as sntwitter\n",
    "import pandas as pd\n"
   ]
  },
  {
   "cell_type": "code",
   "execution_count": 3,
   "metadata": {},
   "outputs": [
    {
     "ename": "ValueError",
     "evalue": "empty query",
     "output_type": "error",
     "traceback": [
      "\u001b[0;31m---------------------------------------------------------------------------\u001b[0m",
      "\u001b[0;31mValueError\u001b[0m                                Traceback (most recent call last)",
      "\u001b[1;32m/Volumes/GoogleDrive/My Drive/Spring 2022/Data Science Methodology/UkraineConflictOnTwitter/DataCollection/scrapping/TwitterSNSScrape_demo.ipynb Cell 3'\u001b[0m in \u001b[0;36m<cell line: 5>\u001b[0;34m()\u001b[0m\n\u001b[1;32m      <a href='vscode-notebook-cell:/Volumes/GoogleDrive/My%20Drive/Spring%202022/Data%20Science%20Methodology/UkraineConflictOnTwitter/DataCollection/scrapping/TwitterSNSScrape_demo.ipynb#ch0000002?line=1'>2</a>\u001b[0m tweets \u001b[39m=\u001b[39m []\n\u001b[1;32m      <a href='vscode-notebook-cell:/Volumes/GoogleDrive/My%20Drive/Spring%202022/Data%20Science%20Methodology/UkraineConflictOnTwitter/DataCollection/scrapping/TwitterSNSScrape_demo.ipynb#ch0000002?line=2'>3</a>\u001b[0m limit \u001b[39m=\u001b[39m \u001b[39m100000\u001b[39m\n\u001b[0;32m----> <a href='vscode-notebook-cell:/Volumes/GoogleDrive/My%20Drive/Spring%202022/Data%20Science%20Methodology/UkraineConflictOnTwitter/DataCollection/scrapping/TwitterSNSScrape_demo.ipynb#ch0000002?line=4'>5</a>\u001b[0m \u001b[39mfor\u001b[39;00m tweet \u001b[39min\u001b[39;00m sntwitter\u001b[39m.\u001b[39;49mTwitterSearchScraper(query)\u001b[39m.\u001b[39mget_items():\n\u001b[1;32m      <a href='vscode-notebook-cell:/Volumes/GoogleDrive/My%20Drive/Spring%202022/Data%20Science%20Methodology/UkraineConflictOnTwitter/DataCollection/scrapping/TwitterSNSScrape_demo.ipynb#ch0000002?line=5'>6</a>\u001b[0m     \u001b[39mif\u001b[39;00m \u001b[39mlen\u001b[39m(tweets) \u001b[39m==\u001b[39m limit:\n\u001b[1;32m      <a href='vscode-notebook-cell:/Volumes/GoogleDrive/My%20Drive/Spring%202022/Data%20Science%20Methodology/UkraineConflictOnTwitter/DataCollection/scrapping/TwitterSNSScrape_demo.ipynb#ch0000002?line=6'>7</a>\u001b[0m         \u001b[39mbreak\u001b[39;00m\n",
      "File \u001b[0;32m~/miniforge3/envs/mlp/lib/python3.8/site-packages/snscrape/modules/twitter.py:623\u001b[0m, in \u001b[0;36mTwitterSearchScraper.__init__\u001b[0;34m(self, query, cursor, top, **kwargs)\u001b[0m\n\u001b[1;32m    <a href='file:///Users/sheikh/miniforge3/envs/mlp/lib/python3.8/site-packages/snscrape/modules/twitter.py?line=620'>621</a>\u001b[0m \u001b[39mdef\u001b[39;00m \u001b[39m__init__\u001b[39m(\u001b[39mself\u001b[39m, query, cursor \u001b[39m=\u001b[39m \u001b[39mNone\u001b[39;00m, top \u001b[39m=\u001b[39m \u001b[39mFalse\u001b[39;00m, \u001b[39m*\u001b[39m\u001b[39m*\u001b[39mkwargs):\n\u001b[1;32m    <a href='file:///Users/sheikh/miniforge3/envs/mlp/lib/python3.8/site-packages/snscrape/modules/twitter.py?line=621'>622</a>\u001b[0m \t\u001b[39mif\u001b[39;00m \u001b[39mnot\u001b[39;00m query\u001b[39m.\u001b[39mstrip():\n\u001b[0;32m--> <a href='file:///Users/sheikh/miniforge3/envs/mlp/lib/python3.8/site-packages/snscrape/modules/twitter.py?line=622'>623</a>\u001b[0m \t\t\u001b[39mraise\u001b[39;00m \u001b[39mValueError\u001b[39;00m(\u001b[39m'\u001b[39m\u001b[39mempty query\u001b[39m\u001b[39m'\u001b[39m)\n\u001b[1;32m    <a href='file:///Users/sheikh/miniforge3/envs/mlp/lib/python3.8/site-packages/snscrape/modules/twitter.py?line=623'>624</a>\u001b[0m \t\u001b[39msuper\u001b[39m()\u001b[39m.\u001b[39m\u001b[39m__init__\u001b[39m(baseUrl \u001b[39m=\u001b[39m \u001b[39m'\u001b[39m\u001b[39mhttps://twitter.com/search?\u001b[39m\u001b[39m'\u001b[39m \u001b[39m+\u001b[39m urllib\u001b[39m.\u001b[39mparse\u001b[39m.\u001b[39murlencode({\u001b[39m'\u001b[39m\u001b[39mf\u001b[39m\u001b[39m'\u001b[39m: \u001b[39m'\u001b[39m\u001b[39mlive\u001b[39m\u001b[39m'\u001b[39m, \u001b[39m'\u001b[39m\u001b[39mlang\u001b[39m\u001b[39m'\u001b[39m: \u001b[39m'\u001b[39m\u001b[39men\u001b[39m\u001b[39m'\u001b[39m, \u001b[39m'\u001b[39m\u001b[39mq\u001b[39m\u001b[39m'\u001b[39m: query, \u001b[39m'\u001b[39m\u001b[39msrc\u001b[39m\u001b[39m'\u001b[39m: \u001b[39m'\u001b[39m\u001b[39mspelling_expansion_revert_click\u001b[39m\u001b[39m'\u001b[39m}), \u001b[39m*\u001b[39m\u001b[39m*\u001b[39mkwargs)\n\u001b[1;32m    <a href='file:///Users/sheikh/miniforge3/envs/mlp/lib/python3.8/site-packages/snscrape/modules/twitter.py?line=624'>625</a>\u001b[0m \t\u001b[39mself\u001b[39m\u001b[39m.\u001b[39m_query \u001b[39m=\u001b[39m query  \u001b[39m# Note: may get replaced by subclasses when using user ID resolution\u001b[39;00m\n",
      "\u001b[0;31mValueError\u001b[0m: empty query"
     ]
    }
   ],
   "source": [
    "query = \"\"ukraine russia\" (from:nytimes) lang:en until:2022-05-24 since:2021-12-24\"\n",
    "tweets = []\n",
    "limit = 100000\n",
    "\n",
    "for tweet in sntwitter.TwitterSearchScraper(query).get_items():\n",
    "    if len(tweets) == limit:\n",
    "        break\n",
    "    else:\n",
    "        tweets.append([tweet.date, tweet.content])\n",
    "df = pd.DataFrame(tweets, columns=[\"Date\", \"Tweet\"])\n"
   ]
  },
  {
   "cell_type": "code",
   "execution_count": 14,
   "metadata": {},
   "outputs": [],
   "source": [
    "import os\n",
    "os.makedirs(\"/Users/sheikh/Winter Learnings/Twitter Trial/Generated DFs\",\n",
    "exist_ok=True)\n",
    "df.to_csv(\"/Users/sheikh/Winter Learnings/Twitter Trial/Generated DFs/NyTimesDectoMay.csv\")"
   ]
  },
  {
   "cell_type": "code",
   "execution_count": 16,
   "metadata": {},
   "outputs": [],
   "source": [
    "query = \"(from:FoxNews) until:2022-04-30 since:2021-12-01 -filter:replies\"\n",
    "tweets = []\n",
    "limit = 1000000\n",
    "\n",
    "for tweet in sntwitter.TwitterSearchScraper(query).get_items():\n",
    "    if len(tweets) == limit:\n",
    "        break\n",
    "    else:\n",
    "        tweets.append([tweet.date, tweet.content])\n",
    "df = pd.DataFrame(tweets, columns=[\"Date\", \"Tweet\"])\n",
    "\n",
    "os.makedirs(\"/Users/sheikh/Winter Learnings/Twitter Trial/Generated DFs\",\n",
    "exist_ok=True)\n",
    "df.to_csv(\"/Users/sheikh/Winter Learnings/Twitter Trial/Generated DFs/FoxNewsAllTweetsDectoApril.csv\")\n",
    "\n",
    "\n"
   ]
  },
  {
   "cell_type": "code",
   "execution_count": 17,
   "metadata": {},
   "outputs": [
    {
     "name": "stdout",
     "output_type": "stream",
     "text": [
      "                           Date  \\\n",
      "0     2022-04-29 23:50:08+00:00   \n",
      "1     2022-04-29 23:40:07+00:00   \n",
      "2     2022-04-29 23:30:00+00:00   \n",
      "3     2022-04-29 23:20:00+00:00   \n",
      "4     2022-04-29 23:10:00+00:00   \n",
      "...                         ...   \n",
      "22500 2021-12-01 00:57:39+00:00   \n",
      "22501 2021-12-01 00:47:31+00:00   \n",
      "22502 2021-12-01 00:35:05+00:00   \n",
      "22503 2021-12-01 00:20:03+00:00   \n",
      "22504 2021-12-01 00:02:45+00:00   \n",
      "\n",
      "                                                   Tweet  \n",
      "0      OPINION: @VirginiaFoxx, @SenatorBurr: Biden th...  \n",
      "1      Clinton campaign seeks to block Durham access ...  \n",
      "2      NYC bystander stabbed by group outside club in...  \n",
      "3      Met Gala 2022 'Gilded Glamour' theme gets mixe...  \n",
      "4      Elon Musk and Amber Heard: What we learned thi...  \n",
      "...                                                  ...  \n",
      "22500  Gutfeld: 'It's going to be a war' between arme...  \n",
      "22501  Illegal immigrant posed as rideshare driver an...  \n",
      "22502  Salvation Army pulls controversial racism guid...  \n",
      "22503  'Sex and the City' spin-off releases full trai...  \n",
      "22504  'Rust' shooting: Police release fourth search ...  \n",
      "\n",
      "[22505 rows x 2 columns]\n"
     ]
    }
   ],
   "source": [
    "print(df)"
   ]
  },
  {
   "cell_type": "code",
   "execution_count": null,
   "metadata": {},
   "outputs": [],
   "source": []
  }
 ],
 "metadata": {
  "interpreter": {
   "hash": "4c9fdd08570a5f943a0097486fb11debc40226ae93a0d1ebcc6105c0c9b89716"
  },
  "kernelspec": {
   "display_name": "Python 3.8.13 ('mlp')",
   "language": "python",
   "name": "python3"
  },
  "language_info": {
   "codemirror_mode": {
    "name": "ipython",
    "version": 3
   },
   "file_extension": ".py",
   "mimetype": "text/x-python",
   "name": "python",
   "nbconvert_exporter": "python",
   "pygments_lexer": "ipython3",
   "version": "3.8.13"
  },
  "orig_nbformat": 4
 },
 "nbformat": 4,
 "nbformat_minor": 2
}
