{
 "cells": [
  {
   "cell_type": "markdown",
   "metadata": {},
   "source": [
    "This is the code to collect data for Question 3 Only.\n",
    "\n",
    "I would be collecting two sets of data for fox news and nytimes.\n",
    "1. First set will contain all tweets from NYTimes and FoxNews containing ALL tweets and replies (but not retweets)\n",
    "2. Second set will contain all tweets containing russia or ukraine from NYTimes and FoxNews, however, no replies or retweets\n",
    "\n",
    "I am using the standard timeframe used in this project: 24th December 2021 to 24th May 2022\n"
   ]
  },
  {
   "cell_type": "code",
   "execution_count": 2,
   "metadata": {},
   "outputs": [],
   "source": [
    "#importing libraries\n",
    "import snscrape.modules.twitter as sntwitter\n",
    "import pandas as pd\n",
    "import os\n",
    "os.makedirs(\"/Volumes/GoogleDrive/My Drive/Spring 2022/Data Science Methodology/UkraineConflictOnTwitter/DataCollection/scrapping/output/q3/May30Scrap/\",\n",
    "exist_ok=True)"
   ]
  },
  {
   "cell_type": "markdown",
   "metadata": {},
   "source": [
    "This is the function for tweet scrapping.\n",
    "Args: \n",
    "query: passed as string, copied from twitter advanced search. Example: \"ukraine russia (from:nytimes) lang:en until:2022-05-24 since:2021-12-24\"\n",
    "\n",
    "filename: the filename of the csv file, passed as string. Needs .csv at the end. Example: \"foxtweets.csv\"\n"
   ]
  },
  {
   "cell_type": "code",
   "execution_count": 3,
   "metadata": {},
   "outputs": [],
   "source": [
    "#defining scrapping function\n",
    "def scrap_tweets_and_save(query, filename):\n",
    "    #query = \"ukraine russia (from:nytimes) lang:en until:2022-05-24 since:2021-12-24\"\n",
    "    tweets = []\n",
    "    limit = 100000\n",
    "\n",
    "    for tweet in sntwitter.TwitterSearchScraper(query).get_items():\n",
    "        if len(tweets) == limit:\n",
    "            print(\"Limit reached\")\n",
    "            break\n",
    "        else:\n",
    "            tweets.append([tweet.date, tweet.content])\n",
    "            #print(\"scrapping ongoing\")\n",
    "        \n",
    "    df = pd.DataFrame(tweets, columns=[\"Date\", \"Tweet\"])\n",
    "    path = \"/Volumes/GoogleDrive/My Drive/Spring 2022/Data Science Methodology/UkraineConflictOnTwitter/DataCollection/scrapping/output/q3/May30Scrap/\"\n",
    "\n",
    "    df.to_csv(path + filename)\n",
    "\n"
   ]
  },
  {
   "cell_type": "code",
   "execution_count": 11,
   "metadata": {},
   "outputs": [],
   "source": [
    "#Collect only the title tweets from nytimes and fox\n",
    "#does not contain replies, only the tweets\n",
    "nytitlequery = \"(from:nytimes) lang:en until:2022-05-24 since:2021-12-24 -filter:replies\"\n",
    "scrap_tweets_and_save(nytitlequery, \"nytitle.csv\")\n"
   ]
  },
  {
   "cell_type": "code",
   "execution_count": 12,
   "metadata": {},
   "outputs": [],
   "source": [
    "foxtitlequery = \"(from:FoxNews) lang:en until:2022-05-24 since:2021-12-24 -filter:replies\"\n",
    "scrap_tweets_and_save(foxtitlequery, \"foxtitle.csv\")"
   ]
  },
  {
   "cell_type": "code",
   "execution_count": 4,
   "metadata": {},
   "outputs": [],
   "source": [
    "#Fox all tweets including replies\n",
    "foxalltweets = \"(russia OR ukraine) (from:FoxNews) lang:en until:2022-05-24 since:2021-12-24\"\n",
    "scrap_tweets_and_save(foxalltweets, \"foxalltweets.csv\")"
   ]
  },
  {
   "cell_type": "code",
   "execution_count": 7,
   "metadata": {},
   "outputs": [],
   "source": [
    "foxalltweets = \"(russia OR ukraine) (to:FoxNews OR from:FoxNews) lang:en until:2022-05-24 since:2021-12-24\"\n",
    "scrap_tweets_and_save(foxalltweets, \"foxalltweets.csv\")"
   ]
  },
  {
   "cell_type": "code",
   "execution_count": 8,
   "metadata": {},
   "outputs": [],
   "source": [
    "nytalltweets = \"(russia OR ukraine) (to:nytimes OR from:nytimes) until:2022-05-24 since:2021-12-24\"\n",
    "scrap_tweets_and_save(nytalltweets, \"nytalltweets.csv\")"
   ]
  },
  {
   "cell_type": "code",
   "execution_count": null,
   "metadata": {},
   "outputs": [],
   "source": []
  }
 ],
 "metadata": {
  "interpreter": {
   "hash": "4c9fdd08570a5f943a0097486fb11debc40226ae93a0d1ebcc6105c0c9b89716"
  },
  "kernelspec": {
   "display_name": "Python 3.8.13 ('mlp')",
   "language": "python",
   "name": "python3"
  },
  "language_info": {
   "codemirror_mode": {
    "name": "ipython",
    "version": 3
   },
   "file_extension": ".py",
   "mimetype": "text/x-python",
   "name": "python",
   "nbconvert_exporter": "python",
   "pygments_lexer": "ipython3",
   "version": "3.8.13"
  },
  "orig_nbformat": 4
 },
 "nbformat": 4,
 "nbformat_minor": 2
}
