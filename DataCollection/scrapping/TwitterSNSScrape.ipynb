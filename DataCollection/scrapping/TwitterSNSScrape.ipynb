{
 "cells": [
  {
   "cell_type": "code",
   "execution_count": 3,
   "metadata": {},
   "outputs": [],
   "source": [
    "import snscrape.modules.twitter as sntwitter\n",
    "import pandas as pd\n",
    "import os\n",
    "from datetime import datetime, timedelta\n",
    "import time"
   ]
  },
  {
   "cell_type": "markdown",
   "metadata": {},
   "source": []
  },
  {
   "cell_type": "code",
   "execution_count": 32,
   "metadata": {},
   "outputs": [],
   "source": [
    "def get_tweets(query, limit, columns):\n",
    "  tweets = []\n",
    "  count = 0\n",
    "  for tweet in sntwitter.TwitterSearchScraper(query).get_items():\n",
    "    count += 1\n",
    "    if count % 500 == 0:\n",
    "      print(str(count) + \" tweets downloaded...\")\n",
    "\n",
    "    if len(tweets) == limit:\n",
    "        break\n",
    "    else:\n",
    "        tweets.append([tweet.date, tweet.content.replace('\\n', '\\\\n').replace('\\t', '\\\\t')])\n",
    "  \n",
    "  return pd.DataFrame(tweets, columns=columns)\n",
    "\n",
    "def save_tweets_to_csv(tweet_df, path, filename):\n",
    "  if not os.path.exists(path):\n",
    "    os.makedirs(path)\n",
    "  tweet_df.to_csv(path + '/' + filename)\n",
    "  print('Saved tweets to ' + path + '/' + filename)\n",
    "    \n",
    "def collect_tweets(start_date, end_date, limit, columns, query, dir_path, filename):\n",
    "    \n",
    "    result_df = pd.DataFrame(columns=columns)\n",
    "    starting_time = time.time()\n",
    "    current_date = start_date\n",
    "    while (current_date < end_date):\n",
    "        next_day = current_date + timedelta(days=1)\n",
    "        search_query = query + f\" -filter:retweets -filter:links until:{str(next_day).split(' ')[0]}  since:{str(current_date).split(' ')[0]}\"\n",
    "        tweets = get_tweets(search_query, limit, columns)\n",
    "        result_df = pd.concat([result_df, tweets])\n",
    "        print('Appended ' + str(len(tweets)) + ' tweets from ' + str(current_date))\n",
    "        print('Time elapsed: ' + str(time.time() - starting_time) + ' seconds.')\n",
    "        current_date = next_day\n",
    "    \n",
    "    init_length = len(result_df)\n",
    "    result_df.drop_duplicates(subset=['text'], inplace=True)\n",
    "    print(f\"{init_length - len(result_df)} duplicates dropped\")\n",
    "\n",
    "    save_tweets_to_csv(result_df, dir_path, filename)\n",
    "    \n",
    "    "
   ]
  },
  {
   "cell_type": "code",
   "execution_count": 33,
   "metadata": {},
   "outputs": [],
   "source": [
    "start_date = datetime(2021, 12, 20)\n",
    "end_date = datetime(2022, 5, 16)\n",
    "columns = [\"Date\", \"text\"]"
   ]
  },
  {
   "cell_type": "markdown",
   "metadata": {},
   "source": [
    "## Question 1"
   ]
  },
  {
   "cell_type": "code",
   "execution_count": null,
   "metadata": {},
   "outputs": [],
   "source": [
    "collect_tweets(start_date, end_date, 500, columns, \"russia ukraine lang:en\", 'output/q1', 'all_tweets.csv')"
   ]
  },
  {
   "cell_type": "markdown",
   "metadata": {},
   "source": [
    "## Question 2"
   ]
  },
  {
   "cell_type": "markdown",
   "metadata": {},
   "source": [
    "### English"
   ]
  },
  {
   "cell_type": "code",
   "execution_count": null,
   "metadata": {},
   "outputs": [],
   "source": [
    "collect_tweets(start_date, end_date, 250, columns, \"putin -zelensky lang:en\", 'output/q2', 'putin_english.csv')"
   ]
  },
  {
   "cell_type": "code",
   "execution_count": null,
   "metadata": {},
   "outputs": [],
   "source": [
    "collect_tweets(start_date, end_date, 250, columns, \"zelensky -putin lang:en\", 'output/q2', 'zelensky_english.csv')"
   ]
  },
  {
   "cell_type": "code",
   "execution_count": null,
   "metadata": {},
   "outputs": [],
   "source": [
    "collect_tweets(start_date, end_date, 250, columns, \"nato -putin -zelensky lang:en\", 'output/q2', 'nato_english.csv')"
   ]
  },
  {
   "cell_type": "markdown",
   "metadata": {},
   "source": [
    "### Russian"
   ]
  },
  {
   "cell_type": "code",
   "execution_count": null,
   "metadata": {},
   "outputs": [],
   "source": [
    "collect_tweets(start_date, end_date, 250, columns, \"Путин -Зеленский lang:ru\", 'output/q2', 'putin_russian.csv')"
   ]
  },
  {
   "cell_type": "code",
   "execution_count": null,
   "metadata": {},
   "outputs": [],
   "source": [
    "collect_tweets(start_date, end_date, 250, columns, \"Зеленский -Путин lang:ru\", 'output/q2', 'zelensky_russian.csv')"
   ]
  },
  {
   "cell_type": "code",
   "execution_count": null,
   "metadata": {},
   "outputs": [],
   "source": [
    "collect_tweets(start_date, end_date, 250, columns, \"НАТО -Зеленский -Путин lang:ru\", 'output/q2', 'nato_russian.csv')"
   ]
  },
  {
   "cell_type": "markdown",
   "metadata": {},
   "source": [
    "## Question 3"
   ]
  },
  {
   "cell_type": "code",
   "execution_count": null,
   "metadata": {},
   "outputs": [],
   "source": [
    "collect_tweets(start_date, end_date, 190, columns, \"(russia OR ukraine) (to:FoxNews) lang:en\", 'output/q3', 'fox_news.csv')"
   ]
  },
  {
   "cell_type": "code",
   "execution_count": null,
   "metadata": {},
   "outputs": [],
   "source": [
    "collect_tweets(start_date, end_date, 190, columns, \"(russia OR ukraine) (to:nytimes) lang:en\", 'output/q3', 'new_york_times.csv')"
   ]
  },
  {
   "cell_type": "code",
   "execution_count": null,
   "metadata": {},
   "outputs": [],
   "source": [
    "print(df)"
   ]
  },
  {
   "cell_type": "code",
   "execution_count": null,
   "metadata": {},
   "outputs": [],
   "source": []
  }
 ],
 "metadata": {
  "interpreter": {
   "hash": "aee8b7b246df8f9039afb4144a1f6fd8d2ca17a180786b69acc140d282b71a49"
  },
  "kernelspec": {
   "display_name": "Python 3 (ipykernel)",
   "language": "python",
   "name": "python3"
  },
  "language_info": {
   "codemirror_mode": {
    "name": "ipython",
    "version": 3
   },
   "file_extension": ".py",
   "mimetype": "text/x-python",
   "name": "python",
   "nbconvert_exporter": "python",
   "pygments_lexer": "ipython3",
   "version": "3.9.12"
  }
 },
 "nbformat": 4,
 "nbformat_minor": 2
}
