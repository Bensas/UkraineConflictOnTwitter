{
 "cells": [
  {
   "cell_type": "code",
   "execution_count": 2,
   "metadata": {},
   "outputs": [
    {
     "name": "stdout",
     "output_type": "stream",
     "text": [
      "Collecting snscrape\n",
      "  Downloading snscrape-0.4.3.20220106-py3-none-any.whl (59 kB)\n",
      "\u001b[K     |████████████████████████████████| 59 kB 3.7 MB/s eta 0:00:011\n",
      "\u001b[?25hCollecting lxml\n",
      "  Using cached lxml-4.8.0.tar.gz (3.2 MB)\n",
      "Requirement already satisfied: requests[socks] in /Users/sheikh/miniforge3/envs/mlp/lib/python3.8/site-packages (from snscrape) (2.27.1)\n",
      "Requirement already satisfied: beautifulsoup4 in /Users/sheikh/miniforge3/envs/mlp/lib/python3.8/site-packages (from snscrape) (4.11.1)\n",
      "Requirement already satisfied: pytz in /Users/sheikh/miniforge3/envs/mlp/lib/python3.8/site-packages (from snscrape) (2022.1)\n",
      "Collecting filelock\n",
      "  Downloading filelock-3.7.0-py3-none-any.whl (10 kB)\n",
      "Requirement already satisfied: soupsieve>1.2 in /Users/sheikh/miniforge3/envs/mlp/lib/python3.8/site-packages (from beautifulsoup4->snscrape) (2.3.1)\n",
      "Requirement already satisfied: certifi>=2017.4.17 in /Users/sheikh/miniforge3/envs/mlp/lib/python3.8/site-packages (from requests[socks]->snscrape) (2021.10.8)\n",
      "Requirement already satisfied: urllib3<1.27,>=1.21.1 in /Users/sheikh/miniforge3/envs/mlp/lib/python3.8/site-packages (from requests[socks]->snscrape) (1.26.9)\n",
      "Requirement already satisfied: charset-normalizer~=2.0.0 in /Users/sheikh/miniforge3/envs/mlp/lib/python3.8/site-packages (from requests[socks]->snscrape) (2.0.12)\n",
      "Requirement already satisfied: idna<4,>=2.5 in /Users/sheikh/miniforge3/envs/mlp/lib/python3.8/site-packages (from requests[socks]->snscrape) (3.3)\n",
      "Collecting PySocks!=1.5.7,>=1.5.6\n",
      "  Downloading PySocks-1.7.1-py3-none-any.whl (16 kB)\n",
      "Building wheels for collected packages: lxml\n",
      "  Building wheel for lxml (setup.py) ... \u001b[?25ldone\n",
      "\u001b[?25h  Created wheel for lxml: filename=lxml-4.8.0-cp38-cp38-macosx_11_0_arm64.whl size=1485043 sha256=07a7e5f826dca282163daa66c748008da6750c32c7e6a4922acf2dbd7d66b329\n",
      "  Stored in directory: /Users/sheikh/Library/Caches/pip/wheels/b0/fd/85/b657b0bb522ca7820a9af40ad25cb9017e42823a0993244fda\n",
      "Successfully built lxml\n",
      "Installing collected packages: PySocks, lxml, filelock, snscrape\n",
      "Successfully installed PySocks-1.7.1 filelock-3.7.0 lxml-4.8.0 snscrape-0.4.3.20220106\n"
     ]
    }
   ],
   "source": [
    "!pip3 install snscrape"
   ]
  },
  {
   "cell_type": "code",
   "execution_count": 3,
   "metadata": {},
   "outputs": [],
   "source": [
    "import snscrape.modules.twitter as sntwitter\n",
    "import pandas as pd"
   ]
  },
  {
   "cell_type": "code",
   "execution_count": 12,
   "metadata": {},
   "outputs": [],
   "source": [
    "query = \"(from:nytimes) until:2022-04-30 since:2021-12-01 -filter:replies\"\n",
    "tweets = []\n",
    "limit = 100000\n",
    "\n",
    "for tweet in sntwitter.TwitterSearchScraper(query).get_items():\n",
    "    if len(tweets) == limit:\n",
    "        break\n",
    "    else:\n",
    "        tweets.append([tweet.date, tweet.content])\n",
    "df = pd.DataFrame(tweets, columns=[\"Date\", \"Tweet\"])\n"
   ]
  },
  {
   "cell_type": "code",
   "execution_count": 14,
   "metadata": {},
   "outputs": [],
   "source": [
    "import os\n",
    "os.makedirs(\"/Users/sheikh/Winter Learnings/Twitter Trial/Generated DFs\",\n",
    "exist_ok=True)\n",
    "df.to_csv(\"/Users/sheikh/Winter Learnings/Twitter Trial/Generated DFs/NyTimesAllTweetsDectoApril.csv\")"
   ]
  },
  {
   "cell_type": "code",
   "execution_count": 16,
   "metadata": {},
   "outputs": [],
   "source": [
    "query = \"(from:FoxNews) until:2022-04-30 since:2021-12-01 -filter:replies\"\n",
    "tweets = []\n",
    "limit = 100000\n",
    "\n",
    "for tweet in sntwitter.TwitterSearchScraper(query).get_items():\n",
    "    if len(tweets) == limit:\n",
    "        break\n",
    "    else:\n",
    "        tweets.append([tweet.date, tweet.content])\n",
    "df = pd.DataFrame(tweets, columns=[\"Date\", \"Tweet\"])\n",
    "\n",
    "os.makedirs(\"/Users/sheikh/Winter Learnings/Twitter Trial/Generated DFs\",\n",
    "exist_ok=True)\n",
    "df.to_csv(\"/Users/sheikh/Winter Learnings/Twitter Trial/Generated DFs/FoxNewsAllTweetsDectoApril.csv\")\n",
    "\n",
    "\n"
   ]
  },
  {
   "cell_type": "code",
   "execution_count": 17,
   "metadata": {},
   "outputs": [
    {
     "name": "stdout",
     "output_type": "stream",
     "text": [
      "                           Date  \\\n",
      "0     2022-04-29 23:50:08+00:00   \n",
      "1     2022-04-29 23:40:07+00:00   \n",
      "2     2022-04-29 23:30:00+00:00   \n",
      "3     2022-04-29 23:20:00+00:00   \n",
      "4     2022-04-29 23:10:00+00:00   \n",
      "...                         ...   \n",
      "22500 2021-12-01 00:57:39+00:00   \n",
      "22501 2021-12-01 00:47:31+00:00   \n",
      "22502 2021-12-01 00:35:05+00:00   \n",
      "22503 2021-12-01 00:20:03+00:00   \n",
      "22504 2021-12-01 00:02:45+00:00   \n",
      "\n",
      "                                                   Tweet  \n",
      "0      OPINION: @VirginiaFoxx, @SenatorBurr: Biden th...  \n",
      "1      Clinton campaign seeks to block Durham access ...  \n",
      "2      NYC bystander stabbed by group outside club in...  \n",
      "3      Met Gala 2022 'Gilded Glamour' theme gets mixe...  \n",
      "4      Elon Musk and Amber Heard: What we learned thi...  \n",
      "...                                                  ...  \n",
      "22500  Gutfeld: 'It's going to be a war' between arme...  \n",
      "22501  Illegal immigrant posed as rideshare driver an...  \n",
      "22502  Salvation Army pulls controversial racism guid...  \n",
      "22503  'Sex and the City' spin-off releases full trai...  \n",
      "22504  'Rust' shooting: Police release fourth search ...  \n",
      "\n",
      "[22505 rows x 2 columns]\n"
     ]
    }
   ],
   "source": [
    "print(df)"
   ]
  },
  {
   "cell_type": "code",
   "execution_count": null,
   "metadata": {},
   "outputs": [],
   "source": []
  }
 ],
 "metadata": {
  "interpreter": {
   "hash": "4c9fdd08570a5f943a0097486fb11debc40226ae93a0d1ebcc6105c0c9b89716"
  },
  "kernelspec": {
   "display_name": "Python 3.8.13 ('mlp')",
   "language": "python",
   "name": "python3"
  },
  "language_info": {
   "codemirror_mode": {
    "name": "ipython",
    "version": 3
   },
   "file_extension": ".py",
   "mimetype": "text/x-python",
   "name": "python",
   "nbconvert_exporter": "python",
   "pygments_lexer": "ipython3",
   "version": "3.8.13"
  },
  "orig_nbformat": 4
 },
 "nbformat": 4,
 "nbformat_minor": 2
}
